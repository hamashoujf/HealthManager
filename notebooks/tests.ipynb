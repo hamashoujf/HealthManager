{
 "cells": [
  {
   "cell_type": "code",
   "execution_count": 1,
   "metadata": {},
   "outputs": [],
   "source": [
    "import sys\n",
    "sys.path.append('../HealthManager/core')"
   ]
  },
  {
   "cell_type": "code",
   "execution_count": 2,
   "metadata": {},
   "outputs": [
    {
     "name": "stdout",
     "output_type": "stream",
     "text": [
      "[プロセキソールジェネリック]エチニラ0.05mg 【1箱28錠】\n"
     ]
    }
   ],
   "source": [
    "from scraper.osakadou import MedicineInfoScraper\n",
    "\n",
    "pid = \"022752_etinila-0.05\"\n",
    "scraper = MedicineInfoScraper(pid)\n",
    "\n",
    "response = scraper.get()\n",
    "scraper.parse(response)\n"
   ]
  }
 ],
 "metadata": {
  "kernelspec": {
   "display_name": "healthmanager-gKPjfcAu-py3.11",
   "language": "python",
   "name": "python3"
  },
  "language_info": {
   "codemirror_mode": {
    "name": "ipython",
    "version": 3
   },
   "file_extension": ".py",
   "mimetype": "text/x-python",
   "name": "python",
   "nbconvert_exporter": "python",
   "pygments_lexer": "ipython3",
   "version": "3.11.4"
  },
  "orig_nbformat": 4
 },
 "nbformat": 4,
 "nbformat_minor": 2
}
